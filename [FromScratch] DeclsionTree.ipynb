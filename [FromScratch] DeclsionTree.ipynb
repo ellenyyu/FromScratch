{
 "cells": [
  {
   "cell_type": "markdown",
   "id": "9bd0387e-6ff1-45a6-90dd-ad9cd0883753",
   "metadata": {},
   "source": [
    "__This notebook codes Decision Tree algo from scratch__\n",
    "\n",
    "Sunday, April 17, 2022\n",
    "\n",
    "Version 1 will also include a ppt\n",
    "Version 2 will include type hints \n",
    "Version 3 will convert this into a py script\n",
    "Version 4 and beyond will build out other functions such as: \n",
    " - Optimization \n",
    " - Cross Entropy loss \n",
    " - Tree Pruning \n",
    " - Regression\n",
    " - Equality instead of ranking for categorical inputs (see source) \n",
    " \n",
    "Much of this version can be credited to: https://machinelearningmastery.com/implement-decision-tree-algorithm-scratch-python/"
   ]
  },
  {
   "cell_type": "code",
   "execution_count": 1,
   "id": "2bb2829f-10ef-4117-bf04-1eb4ca9fe8d9",
   "metadata": {},
   "outputs": [],
   "source": [
    "import pandas as pd\n",
    "from matplotlib import pyplot as plt\n",
    "import seaborn as sns"
   ]
  },
  {
   "cell_type": "markdown",
   "id": "02fbf73e-4c46-48be-8317-4979ef46a164",
   "metadata": {},
   "source": [
    "__Sample Data__"
   ]
  },
  {
   "cell_type": "code",
   "execution_count": 2,
   "id": "e036f242-0aef-464a-ab26-286127c0c162",
   "metadata": {},
   "outputs": [
    {
     "data": {
      "text/html": [
       "<div>\n",
       "<style scoped>\n",
       "    .dataframe tbody tr th:only-of-type {\n",
       "        vertical-align: middle;\n",
       "    }\n",
       "\n",
       "    .dataframe tbody tr th {\n",
       "        vertical-align: top;\n",
       "    }\n",
       "\n",
       "    .dataframe thead th {\n",
       "        text-align: right;\n",
       "    }\n",
       "</style>\n",
       "<table border=\"1\" class=\"dataframe\">\n",
       "  <thead>\n",
       "    <tr style=\"text-align: right;\">\n",
       "      <th></th>\n",
       "      <th>variance</th>\n",
       "      <th>skewness</th>\n",
       "      <th>kurtosis</th>\n",
       "      <th>entropy</th>\n",
       "      <th>class</th>\n",
       "    </tr>\n",
       "  </thead>\n",
       "  <tbody>\n",
       "    <tr>\n",
       "      <th>0</th>\n",
       "      <td>4.54590</td>\n",
       "      <td>8.1674</td>\n",
       "      <td>-2.4586</td>\n",
       "      <td>-1.46210</td>\n",
       "      <td>0</td>\n",
       "    </tr>\n",
       "    <tr>\n",
       "      <th>1</th>\n",
       "      <td>3.86600</td>\n",
       "      <td>-2.6383</td>\n",
       "      <td>1.9242</td>\n",
       "      <td>0.10645</td>\n",
       "      <td>0</td>\n",
       "    </tr>\n",
       "    <tr>\n",
       "      <th>2</th>\n",
       "      <td>3.45660</td>\n",
       "      <td>9.5228</td>\n",
       "      <td>-4.0112</td>\n",
       "      <td>-3.59440</td>\n",
       "      <td>0</td>\n",
       "    </tr>\n",
       "    <tr>\n",
       "      <th>3</th>\n",
       "      <td>0.32924</td>\n",
       "      <td>-4.4552</td>\n",
       "      <td>4.5718</td>\n",
       "      <td>-0.98880</td>\n",
       "      <td>0</td>\n",
       "    </tr>\n",
       "    <tr>\n",
       "      <th>4</th>\n",
       "      <td>4.36840</td>\n",
       "      <td>9.6718</td>\n",
       "      <td>-3.9606</td>\n",
       "      <td>-3.16250</td>\n",
       "      <td>0</td>\n",
       "    </tr>\n",
       "  </tbody>\n",
       "</table>\n",
       "</div>"
      ],
      "text/plain": [
       "   variance  skewness  kurtosis  entropy  class\n",
       "0   4.54590    8.1674   -2.4586 -1.46210      0\n",
       "1   3.86600   -2.6383    1.9242  0.10645      0\n",
       "2   3.45660    9.5228   -4.0112 -3.59440      0\n",
       "3   0.32924   -4.4552    4.5718 -0.98880      0\n",
       "4   4.36840    9.6718   -3.9606 -3.16250      0"
      ]
     },
     "execution_count": 2,
     "metadata": {},
     "output_type": "execute_result"
    }
   ],
   "source": [
    "# Load the data\n",
    "data = pd.read_csv(\"data_banknote_authentication.txt\")\n",
    "# Give column headers \n",
    "data.columns = ['variance', 'skewness', 'kurtosis', 'entropy', 'class']\n",
    "# View the dataframe\n",
    "data.head()"
   ]
  },
  {
   "cell_type": "code",
   "execution_count": 3,
   "id": "e116c726-7989-4182-8403-0d565b40ec5b",
   "metadata": {},
   "outputs": [
    {
     "name": "stdout",
     "output_type": "stream",
     "text": [
      "<class 'pandas.core.frame.DataFrame'>\n",
      "RangeIndex: 1371 entries, 0 to 1370\n",
      "Data columns (total 5 columns):\n",
      " #   Column    Non-Null Count  Dtype  \n",
      "---  ------    --------------  -----  \n",
      " 0   variance  1371 non-null   float64\n",
      " 1   skewness  1371 non-null   float64\n",
      " 2   kurtosis  1371 non-null   float64\n",
      " 3   entropy   1371 non-null   float64\n",
      " 4   class     1371 non-null   int64  \n",
      "dtypes: float64(4), int64(1)\n",
      "memory usage: 53.7 KB\n"
     ]
    }
   ],
   "source": [
    "# Inspect the data\n",
    "data.info() # All numeric data; 4 continuous, 1 integer "
   ]
  },
  {
   "cell_type": "code",
   "execution_count": 4,
   "id": "c9acf393-947f-4110-9875-ef4901d6b7a9",
   "metadata": {},
   "outputs": [
    {
     "data": {
      "text/html": [
       "<div>\n",
       "<style scoped>\n",
       "    .dataframe tbody tr th:only-of-type {\n",
       "        vertical-align: middle;\n",
       "    }\n",
       "\n",
       "    .dataframe tbody tr th {\n",
       "        vertical-align: top;\n",
       "    }\n",
       "\n",
       "    .dataframe thead th {\n",
       "        text-align: right;\n",
       "    }\n",
       "</style>\n",
       "<table border=\"1\" class=\"dataframe\">\n",
       "  <thead>\n",
       "    <tr style=\"text-align: right;\">\n",
       "      <th></th>\n",
       "      <th>variance</th>\n",
       "      <th>skewness</th>\n",
       "      <th>kurtosis</th>\n",
       "      <th>entropy</th>\n",
       "      <th>class</th>\n",
       "    </tr>\n",
       "  </thead>\n",
       "  <tbody>\n",
       "    <tr>\n",
       "      <th>count</th>\n",
       "      <td>1371.000000</td>\n",
       "      <td>1371.000000</td>\n",
       "      <td>1371.000000</td>\n",
       "      <td>1371.000000</td>\n",
       "      <td>1371.000000</td>\n",
       "    </tr>\n",
       "    <tr>\n",
       "      <th>mean</th>\n",
       "      <td>0.431410</td>\n",
       "      <td>1.917434</td>\n",
       "      <td>1.400694</td>\n",
       "      <td>-1.192200</td>\n",
       "      <td>0.444931</td>\n",
       "    </tr>\n",
       "    <tr>\n",
       "      <th>std</th>\n",
       "      <td>2.842494</td>\n",
       "      <td>5.868359</td>\n",
       "      <td>4.310105</td>\n",
       "      <td>2.101683</td>\n",
       "      <td>0.497139</td>\n",
       "    </tr>\n",
       "    <tr>\n",
       "      <th>min</th>\n",
       "      <td>-7.042100</td>\n",
       "      <td>-13.773100</td>\n",
       "      <td>-5.286100</td>\n",
       "      <td>-8.548200</td>\n",
       "      <td>0.000000</td>\n",
       "    </tr>\n",
       "    <tr>\n",
       "      <th>25%</th>\n",
       "      <td>-1.774700</td>\n",
       "      <td>-1.711300</td>\n",
       "      <td>-1.553350</td>\n",
       "      <td>-2.417000</td>\n",
       "      <td>0.000000</td>\n",
       "    </tr>\n",
       "    <tr>\n",
       "      <th>50%</th>\n",
       "      <td>0.495710</td>\n",
       "      <td>2.313400</td>\n",
       "      <td>0.616630</td>\n",
       "      <td>-0.586650</td>\n",
       "      <td>0.000000</td>\n",
       "    </tr>\n",
       "    <tr>\n",
       "      <th>75%</th>\n",
       "      <td>2.814650</td>\n",
       "      <td>6.813100</td>\n",
       "      <td>3.181600</td>\n",
       "      <td>0.394810</td>\n",
       "      <td>1.000000</td>\n",
       "    </tr>\n",
       "    <tr>\n",
       "      <th>max</th>\n",
       "      <td>6.824800</td>\n",
       "      <td>12.951600</td>\n",
       "      <td>17.927400</td>\n",
       "      <td>2.449500</td>\n",
       "      <td>1.000000</td>\n",
       "    </tr>\n",
       "  </tbody>\n",
       "</table>\n",
       "</div>"
      ],
      "text/plain": [
       "          variance     skewness     kurtosis      entropy        class\n",
       "count  1371.000000  1371.000000  1371.000000  1371.000000  1371.000000\n",
       "mean      0.431410     1.917434     1.400694    -1.192200     0.444931\n",
       "std       2.842494     5.868359     4.310105     2.101683     0.497139\n",
       "min      -7.042100   -13.773100    -5.286100    -8.548200     0.000000\n",
       "25%      -1.774700    -1.711300    -1.553350    -2.417000     0.000000\n",
       "50%       0.495710     2.313400     0.616630    -0.586650     0.000000\n",
       "75%       2.814650     6.813100     3.181600     0.394810     1.000000\n",
       "max       6.824800    12.951600    17.927400     2.449500     1.000000"
      ]
     },
     "execution_count": 4,
     "metadata": {},
     "output_type": "execute_result"
    }
   ],
   "source": [
    "# See summary statistics \n",
    "data.describe()"
   ]
  },
  {
   "cell_type": "code",
   "execution_count": 5,
   "id": "7e964351-e744-4e23-96b6-5203865a1523",
   "metadata": {},
   "outputs": [
    {
     "name": "stdout",
     "output_type": "stream",
     "text": [
      "variance\n"
     ]
    },
    {
     "data": {
      "image/png": "[encoded data removed]",
      "text/plain": [
       "<Figure size 432x288 with 1 Axes>"
      ]
     },
     "metadata": {
      "needs_background": "light"
     },
     "output_type": "display_data"
    },
    {
     "name": "stdout",
     "output_type": "stream",
     "text": [
      "skewness\n"
     ]
    },
    {
     "data": {
      "image/png": "[encoded data removed]",
      "text/plain": [
       "<Figure size 432x288 with 1 Axes>"
      ]
     },
     "metadata": {
      "needs_background": "light"
     },
     "output_type": "display_data"
    },
    {
     "name": "stdout",
     "output_type": "stream",
     "text": [
      "kurtosis\n"
     ]
    },
    {
     "data": {
      "image/png": "[encoded data removed]",
      "text/plain": [
       "<Figure size 432x288 with 1 Axes>"
      ]
     },
     "metadata": {
      "needs_background": "light"
     },
     "output_type": "display_data"
    },
    {
     "name": "stdout",
     "output_type": "stream",
     "text": [
      "entropy\n"
     ]
    },
    {
     "data": {
      "image/png": "[encoded data removed]",
      "text/plain": [
       "<Figure size 432x288 with 1 Axes>"
      ]
     },
     "metadata": {
      "needs_background": "light"
     },
     "output_type": "display_data"
    }
   ],
   "source": [
    "# Are the predictors potentially good predictors of class\n",
    "for feature in data.columns[:4]:\n",
    "    print (feature)\n",
    "    sns.boxplot(x = 'class', y = feature, data = data)\n",
    "    plt.show()"
   ]
  },
  {
   "cell_type": "code",
   "execution_count": 6,
   "id": "846fea1f-2cbb-4ec5-bb55-02723f9b52bc",
   "metadata": {},
   "outputs": [
    {
     "data": {
      "image/png": "[encoded data removed]",
      "text/plain": [
       "<Figure size 432x288 with 2 Axes>"
      ]
     },
     "metadata": {
      "needs_background": "light"
     },
     "output_type": "display_data"
    }
   ],
   "source": [
    "# Check the correlation between variables\n",
    "corr = data.corr(method='pearson', min_periods=1)\n",
    "sns.heatmap(corr, annot=True)\n",
    "plt.show() # There is high correlation between kurtosis and skewness. Perhaps one of them is not necessary "
   ]
  },
  {
   "cell_type": "markdown",
   "id": "b100e105-6cde-47de-a788-15377e26b232",
   "metadata": {},
   "source": [
    "__Gini Index__\n",
    "\n",
    "Image of math \n",
    "\n",
    "To evaluate splits"
   ]
  },
  {
   "cell_type": "code",
   "execution_count": 7,
   "id": "be9205dd-aacb-4fba-9a20-0a70be4c2698",
   "metadata": {},
   "outputs": [],
   "source": [
    "# calculate the Gini index for a split dataset\n",
    "def gini_index(groups, classes):\n",
    "    # count all samples at split point: \n",
    "    #print([len(group) for group in groups])\n",
    "    n_instances = float(sum([len(group) for group in groups]))\n",
    "    #print(n_instances)\n",
    "    #sum weighted Gini index for each group \n",
    "    gini = 0.0 \n",
    "    for group in groups: \n",
    "        size = float (len(group))\n",
    "        # avoid divide by zero \n",
    "        if size == 0: \n",
    "            continue \n",
    "        score = 0.0 \n",
    "        #score the group based on the score for each class \n",
    "        for class_val in classes: \n",
    "            #print(class_val)\n",
    "            p = [row[-1] for row in group].count(class_val) / size \n",
    "            #print([row[-1] for row in group])\n",
    "            #print ('p:', p)\n",
    "            score += p * p \n",
    "        # weight the group score by its relative size \n",
    "        gini += (1.0 - score) * (size / n_instances)\n",
    "    return gini "
   ]
  },
  {
   "cell_type": "code",
   "execution_count": 8,
   "id": "24f14521-a393-40f3-b469-efff97cedf09",
   "metadata": {},
   "outputs": [
    {
     "data": {
      "text/html": [
       "<div>\n",
       "<style scoped>\n",
       "    .dataframe tbody tr th:only-of-type {\n",
       "        vertical-align: middle;\n",
       "    }\n",
       "\n",
       "    .dataframe tbody tr th {\n",
       "        vertical-align: top;\n",
       "    }\n",
       "\n",
       "    .dataframe thead th {\n",
       "        text-align: right;\n",
       "    }\n",
       "</style>\n",
       "<table border=\"1\" class=\"dataframe\">\n",
       "  <thead>\n",
       "    <tr style=\"text-align: right;\">\n",
       "      <th></th>\n",
       "      <th>0</th>\n",
       "      <th>1</th>\n",
       "    </tr>\n",
       "  </thead>\n",
       "  <tbody>\n",
       "    <tr>\n",
       "      <th>0</th>\n",
       "      <td>[1, 1]</td>\n",
       "      <td>[1, 0]</td>\n",
       "    </tr>\n",
       "    <tr>\n",
       "      <th>1</th>\n",
       "      <td>[1, 0]</td>\n",
       "      <td>[1, 1]</td>\n",
       "    </tr>\n",
       "    <tr>\n",
       "      <th>2</th>\n",
       "      <td>[1, 1]</td>\n",
       "      <td>[1, 0]</td>\n",
       "    </tr>\n",
       "  </tbody>\n",
       "</table>\n",
       "</div>"
      ],
      "text/plain": [
       "        0       1\n",
       "0  [1, 1]  [1, 0]\n",
       "1  [1, 0]  [1, 1]\n",
       "2  [1, 1]  [1, 0]"
      ]
     },
     "execution_count": 8,
     "metadata": {},
     "output_type": "execute_result"
    }
   ],
   "source": [
    "groups = [[[1, 1], [1, 0]], [[1, 0], [1, 1]], [[1, 1], [1, 0]]]\n",
    "pd.DataFrame(groups)"
   ]
  },
  {
   "cell_type": "code",
   "execution_count": 9,
   "id": "34da4167-5aee-4f1c-9b52-f4c6377fb589",
   "metadata": {},
   "outputs": [
    {
     "data": {
      "text/plain": [
       "0.5"
      ]
     },
     "execution_count": 9,
     "metadata": {},
     "output_type": "execute_result"
    }
   ],
   "source": [
    "gini_index(groups, [0, 1])"
   ]
  },
  {
   "cell_type": "code",
   "execution_count": 10,
   "id": "0614c765-e1e3-4747-bca1-c7e119c881c0",
   "metadata": {},
   "outputs": [
    {
     "data": {
      "text/html": [
       "<div>\n",
       "<style scoped>\n",
       "    .dataframe tbody tr th:only-of-type {\n",
       "        vertical-align: middle;\n",
       "    }\n",
       "\n",
       "    .dataframe tbody tr th {\n",
       "        vertical-align: top;\n",
       "    }\n",
       "\n",
       "    .dataframe thead th {\n",
       "        text-align: right;\n",
       "    }\n",
       "</style>\n",
       "<table border=\"1\" class=\"dataframe\">\n",
       "  <thead>\n",
       "    <tr style=\"text-align: right;\">\n",
       "      <th></th>\n",
       "      <th>0</th>\n",
       "      <th>1</th>\n",
       "    </tr>\n",
       "  </thead>\n",
       "  <tbody>\n",
       "    <tr>\n",
       "      <th>0</th>\n",
       "      <td>[1, 1]</td>\n",
       "      <td>[1, 0]</td>\n",
       "    </tr>\n",
       "    <tr>\n",
       "      <th>1</th>\n",
       "      <td>[1, 0]</td>\n",
       "      <td>[1, 1]</td>\n",
       "    </tr>\n",
       "  </tbody>\n",
       "</table>\n",
       "</div>"
      ],
      "text/plain": [
       "        0       1\n",
       "0  [1, 1]  [1, 0]\n",
       "1  [1, 0]  [1, 1]"
      ]
     },
     "execution_count": 10,
     "metadata": {},
     "output_type": "execute_result"
    }
   ],
   "source": [
    "groups = [[[1, 1], [1, 0]], [[1, 0], [1, 1]]]\n",
    "pd.DataFrame(groups)"
   ]
  },
  {
   "cell_type": "code",
   "execution_count": 11,
   "id": "80d5f50e-c4e6-439f-a0df-d629aa20c7df",
   "metadata": {},
   "outputs": [
    {
     "data": {
      "text/plain": [
       "0.5"
      ]
     },
     "execution_count": 11,
     "metadata": {},
     "output_type": "execute_result"
    }
   ],
   "source": [
    "gini_index(groups, [0, 1])"
   ]
  },
  {
   "cell_type": "markdown",
   "id": "c6f0a8b7-d7bb-4109-b13c-f9b39dcfebbc",
   "metadata": {},
   "source": [
    "__Create Split__"
   ]
  },
  {
   "cell_type": "code",
   "execution_count": 12,
   "id": "e05aa3da-7397-4aaf-b30e-c3aed8be0a9a",
   "metadata": {},
   "outputs": [],
   "source": [
    "# Split a dataset based on an attribute and an attribute value \n",
    "def test_split(index, value, dataset):\n",
    "    left, right = list(), list()\n",
    "    for row in dataset: \n",
    "        if row[index] <value: \n",
    "            left.append(row)\n",
    "        else: \n",
    "            right.append(row)\n",
    "    return left, right "
   ]
  },
  {
   "cell_type": "code",
   "execution_count": 13,
   "id": "ebf1af40-d6e1-4362-a2ec-cdf14a584ceb",
   "metadata": {},
   "outputs": [],
   "source": [
    "def get_split(dataset):\n",
    "    class_values = list (set(row[-1] for row in dataset))\n",
    "    b_index, b_value, b_score, b_groups = 999, 999, 999, None \n",
    "    for index in range (len(dataset[0])-1):\n",
    "        for row in dataset:\n",
    "            groups = test_split(index, row[index], dataset)\n",
    "            gini= gini_index(groups, class_values)\n",
    "            print('X%d < %.3f Gini=%.3f' % ((index+1), row[index], gini))\n",
    "            if gini < b_score: \n",
    "                b_index, b_value, b_score, b_groups = index, row[index], gini, groups\n",
    "    return {'index': b_index, 'value': b_value, 'groups':b_groups}"
   ]
  },
  {
   "cell_type": "code",
   "execution_count": 14,
   "id": "f9819b6c-b7e7-4037-9b6f-d34d2183928c",
   "metadata": {},
   "outputs": [
    {
     "data": {
      "text/plain": [
       "[[2.771244718, 1.784783929, 0],\n",
       " [1.728571309, 1.169761413, 0],\n",
       " [3.678319846, 2.81281357, 0],\n",
       " [3.961043357, 2.61995032, 0],\n",
       " [2.999208922, 2.209014212, 0],\n",
       " [7.497545867, 3.162953546, 1],\n",
       " [9.00220326, 3.339047188, 1],\n",
       " [7.444542326, 0.476683375, 1],\n",
       " [10.12493903, 3.234550982, 1],\n",
       " [6.642287351, 3.319983761, 1]]"
      ]
     },
     "execution_count": 14,
     "metadata": {},
     "output_type": "execute_result"
    }
   ],
   "source": [
    "dataset = [[2.771244718,1.784783929,0],\n",
    "[1.728571309,1.169761413,0],\n",
    "[3.678319846,2.81281357,0],\n",
    "[3.961043357,2.61995032,0],\n",
    "[2.999208922,2.209014212,0],\n",
    "[7.497545867,3.162953546,1],\n",
    "[9.00220326,3.339047188,1],\n",
    "[7.444542326,0.476683375,1],\n",
    "[10.12493903,3.234550982,1],\n",
    "[6.642287351,3.319983761,1]]\n",
    "dataset"
   ]
  },
  {
   "cell_type": "code",
   "execution_count": 15,
   "id": "3d38ece9-f885-4cdc-b5c5-92b6e441ec49",
   "metadata": {},
   "outputs": [
    {
     "name": "stdout",
     "output_type": "stream",
     "text": [
      "X1 < 2.771 Gini=0.444\n",
      "X1 < 1.729 Gini=0.500\n",
      "X1 < 3.678 Gini=0.286\n",
      "X1 < 3.961 Gini=0.167\n",
      "X1 < 2.999 Gini=0.375\n",
      "X1 < 7.498 Gini=0.286\n",
      "X1 < 9.002 Gini=0.375\n",
      "X1 < 7.445 Gini=0.167\n",
      "X1 < 10.125 Gini=0.444\n",
      "X1 < 6.642 Gini=0.000\n",
      "X2 < 1.785 Gini=0.500\n",
      "X2 < 1.170 Gini=0.444\n",
      "X2 < 2.813 Gini=0.320\n",
      "X2 < 2.620 Gini=0.417\n",
      "X2 < 2.209 Gini=0.476\n",
      "X2 < 3.163 Gini=0.167\n",
      "X2 < 3.339 Gini=0.444\n",
      "X2 < 0.477 Gini=0.500\n",
      "X2 < 3.235 Gini=0.286\n",
      "X2 < 3.320 Gini=0.375\n"
     ]
    }
   ],
   "source": [
    "split = get_split(dataset)"
   ]
  },
  {
   "cell_type": "code",
   "execution_count": 16,
   "id": "7b37c1d4-e3a1-4900-a904-55e01ee263ac",
   "metadata": {},
   "outputs": [
    {
     "name": "stdout",
     "output_type": "stream",
     "text": [
      "Split: [X1 < 6.642]\n"
     ]
    }
   ],
   "source": [
    "print('Split: [X%d < %.3f]' % ((split['index']+1), split['value']))"
   ]
  },
  {
   "cell_type": "markdown",
   "id": "910c4729-04fa-4533-b7df-18378421f219",
   "metadata": {},
   "source": [
    "__Build a Tree__"
   ]
  },
  {
   "cell_type": "code",
   "execution_count": 17,
   "id": "949c4db6-f1ee-47ff-92aa-06f45da3490b",
   "metadata": {},
   "outputs": [],
   "source": [
    "# Create a terminal node value \n",
    "def to_terminal(group):\n",
    "    outcomes = [row[-1] for row in group]\n",
    "    return max(set(outcomes), key = outcomes.count) # Remember this line of code for interviews"
   ]
  },
  {
   "cell_type": "code",
   "execution_count": 18,
   "id": "79d2a1c8-696d-4381-8eb7-648009aefd43",
   "metadata": {},
   "outputs": [],
   "source": [
    "# Create child splits for a node or make terminal \n",
    "def split(node, max_depth, min_size, depth):\n",
    "    left, right = node['groups']\n",
    "    del(node['groups'])\n",
    "    # check for a no split \n",
    "    if not left or not right: \n",
    "        node['left'] = node ['right'] = to_terminal(left + right)\n",
    "        return \n",
    "    # check for max depth\n",
    "    if depth >= max_depth:\n",
    "        node['left'], node['right'] = to_terminal(left), to_terminal(right)\n",
    "        return\n",
    "    # process left child \n",
    "    if len(left) <= min_size:\n",
    "        node['left'] = to_terminal(left)\n",
    "    else: \n",
    "        node['left'] = get_split(left)\n",
    "        split(node['left'], max_depth, min_size, depth+1)\n",
    "    # process right child \n",
    "    if len(right) <= min_size:\n",
    "        node['right'] = to_terminal(right)\n",
    "    else: \n",
    "        node['right'] = get_split(right)\n",
    "        split(node['right'], max_depth, min_size, depth+1)        "
   ]
  },
  {
   "cell_type": "code",
   "execution_count": 19,
   "id": "fb93b3df-a77f-48c6-a9cb-3c94752b0302",
   "metadata": {},
   "outputs": [],
   "source": [
    "# Build a decision tree \n",
    "def build_tree(train, max_depth, min_size):\n",
    "    root = get_split(train)\n",
    "    split(root, max_depth, min_size, 1)\n",
    "    return root"
   ]
  },
  {
   "cell_type": "code",
   "execution_count": 20,
   "id": "40418904-06e4-4a35-9583-d8e37f93f97d",
   "metadata": {},
   "outputs": [],
   "source": [
    "def print_tree(node, depth=0):\n",
    "    if isinstance(node, dict): \n",
    "        print('%s[X%d < %.3f]' % ((depth*' ', (node['index']+1), node['value'])))\n",
    "        print_tree(node['left'], depth+1)\n",
    "        print_tree(node['right'], depth+1)\n",
    "    else: \n",
    "        print('%s[%s]' % ((depth*' ', node)))"
   ]
  },
  {
   "cell_type": "code",
   "execution_count": 21,
   "id": "6188d0a0-d96a-4d70-bef4-6e3c80d71dd1",
   "metadata": {},
   "outputs": [
    {
     "name": "stdout",
     "output_type": "stream",
     "text": [
      "X1 < 2.771 Gini=0.444\n",
      "X1 < 1.729 Gini=0.500\n",
      "X1 < 3.678 Gini=0.286\n",
      "X1 < 3.961 Gini=0.167\n",
      "X1 < 2.999 Gini=0.375\n",
      "X1 < 7.498 Gini=0.286\n",
      "X1 < 9.002 Gini=0.375\n",
      "X1 < 7.445 Gini=0.167\n",
      "X1 < 10.125 Gini=0.444\n",
      "X1 < 6.642 Gini=0.000\n",
      "X2 < 1.785 Gini=0.500\n",
      "X2 < 1.170 Gini=0.444\n",
      "X2 < 2.813 Gini=0.320\n",
      "X2 < 2.620 Gini=0.417\n",
      "X2 < 2.209 Gini=0.476\n",
      "X2 < 3.163 Gini=0.167\n",
      "X2 < 3.339 Gini=0.444\n",
      "X2 < 0.477 Gini=0.500\n",
      "X2 < 3.235 Gini=0.286\n",
      "X2 < 3.320 Gini=0.375\n"
     ]
    }
   ],
   "source": [
    "tree = build_tree(dataset, 1, 1)"
   ]
  },
  {
   "cell_type": "code",
   "execution_count": 22,
   "id": "428952ca-1a68-4ac9-be6e-dd268dd3ef77",
   "metadata": {},
   "outputs": [
    {
     "name": "stdout",
     "output_type": "stream",
     "text": [
      "[X1 < 6.642]\n",
      " [0]\n",
      " [1]\n"
     ]
    }
   ],
   "source": [
    "print_tree(tree)"
   ]
  },
  {
   "cell_type": "code",
   "execution_count": 23,
   "id": "8a1de357-132d-4431-850e-a44778708be9",
   "metadata": {},
   "outputs": [
    {
     "name": "stdout",
     "output_type": "stream",
     "text": [
      "X1 < 2.771 Gini=0.444\n",
      "X1 < 1.729 Gini=0.500\n",
      "X1 < 3.678 Gini=0.286\n",
      "X1 < 3.961 Gini=0.167\n",
      "X1 < 2.999 Gini=0.375\n",
      "X1 < 7.498 Gini=0.286\n",
      "X1 < 9.002 Gini=0.375\n",
      "X1 < 7.445 Gini=0.167\n",
      "X1 < 10.125 Gini=0.444\n",
      "X1 < 6.642 Gini=0.000\n",
      "X2 < 1.785 Gini=0.500\n",
      "X2 < 1.170 Gini=0.444\n",
      "X2 < 2.813 Gini=0.320\n",
      "X2 < 2.620 Gini=0.417\n",
      "X2 < 2.209 Gini=0.476\n",
      "X2 < 3.163 Gini=0.167\n",
      "X2 < 3.339 Gini=0.444\n",
      "X2 < 0.477 Gini=0.500\n",
      "X2 < 3.235 Gini=0.286\n",
      "X2 < 3.320 Gini=0.375\n",
      "X1 < 2.771 Gini=0.000\n",
      "X1 < 1.729 Gini=0.000\n",
      "X1 < 3.678 Gini=0.000\n",
      "X1 < 3.961 Gini=0.000\n",
      "X1 < 2.999 Gini=0.000\n",
      "X2 < 1.785 Gini=0.000\n",
      "X2 < 1.170 Gini=0.000\n",
      "X2 < 2.813 Gini=0.000\n",
      "X2 < 2.620 Gini=0.000\n",
      "X2 < 2.209 Gini=0.000\n",
      "X1 < 7.498 Gini=0.000\n",
      "X1 < 9.002 Gini=0.000\n",
      "X1 < 7.445 Gini=0.000\n",
      "X1 < 10.125 Gini=0.000\n",
      "X1 < 6.642 Gini=0.000\n",
      "X2 < 3.163 Gini=0.000\n",
      "X2 < 3.339 Gini=0.000\n",
      "X2 < 0.477 Gini=0.000\n",
      "X2 < 3.235 Gini=0.000\n",
      "X2 < 3.320 Gini=0.000\n",
      "[X1 < 6.642]\n",
      " [X1 < 2.771]\n",
      "  [0]\n",
      "  [0]\n",
      " [X1 < 7.498]\n",
      "  [1]\n",
      "  [1]\n"
     ]
    }
   ],
   "source": [
    "tree = build_tree(dataset, 2, 1)\n",
    "print_tree(tree)"
   ]
  },
  {
   "cell_type": "code",
   "execution_count": 24,
   "id": "cb451961-6ce7-451f-a059-008236eda70f",
   "metadata": {},
   "outputs": [
    {
     "name": "stdout",
     "output_type": "stream",
     "text": [
      "X1 < 2.771 Gini=0.444\n",
      "X1 < 1.729 Gini=0.500\n",
      "X1 < 3.678 Gini=0.286\n",
      "X1 < 3.961 Gini=0.167\n",
      "X1 < 2.999 Gini=0.375\n",
      "X1 < 7.498 Gini=0.286\n",
      "X1 < 9.002 Gini=0.375\n",
      "X1 < 7.445 Gini=0.167\n",
      "X1 < 10.125 Gini=0.444\n",
      "X1 < 6.642 Gini=0.000\n",
      "X2 < 1.785 Gini=0.500\n",
      "X2 < 1.170 Gini=0.444\n",
      "X2 < 2.813 Gini=0.320\n",
      "X2 < 2.620 Gini=0.417\n",
      "X2 < 2.209 Gini=0.476\n",
      "X2 < 3.163 Gini=0.167\n",
      "X2 < 3.339 Gini=0.444\n",
      "X2 < 0.477 Gini=0.500\n",
      "X2 < 3.235 Gini=0.286\n",
      "X2 < 3.320 Gini=0.375\n",
      "X1 < 2.771 Gini=0.000\n",
      "X1 < 1.729 Gini=0.000\n",
      "X1 < 3.678 Gini=0.000\n",
      "X1 < 3.961 Gini=0.000\n",
      "X1 < 2.999 Gini=0.000\n",
      "X2 < 1.785 Gini=0.000\n",
      "X2 < 1.170 Gini=0.000\n",
      "X2 < 2.813 Gini=0.000\n",
      "X2 < 2.620 Gini=0.000\n",
      "X2 < 2.209 Gini=0.000\n",
      "X1 < 2.771 Gini=0.000\n",
      "X1 < 3.678 Gini=0.000\n",
      "X1 < 3.961 Gini=0.000\n",
      "X1 < 2.999 Gini=0.000\n",
      "X2 < 1.785 Gini=0.000\n",
      "X2 < 2.813 Gini=0.000\n",
      "X2 < 2.620 Gini=0.000\n",
      "X2 < 2.209 Gini=0.000\n",
      "X1 < 7.498 Gini=0.000\n",
      "X1 < 9.002 Gini=0.000\n",
      "X1 < 7.445 Gini=0.000\n",
      "X1 < 10.125 Gini=0.000\n",
      "X1 < 6.642 Gini=0.000\n",
      "X2 < 3.163 Gini=0.000\n",
      "X2 < 3.339 Gini=0.000\n",
      "X2 < 0.477 Gini=0.000\n",
      "X2 < 3.235 Gini=0.000\n",
      "X2 < 3.320 Gini=0.000\n",
      "X1 < 7.445 Gini=0.000\n",
      "X1 < 6.642 Gini=0.000\n",
      "X2 < 0.477 Gini=0.000\n",
      "X2 < 3.320 Gini=0.000\n",
      "X1 < 7.498 Gini=0.000\n",
      "X1 < 9.002 Gini=0.000\n",
      "X1 < 10.125 Gini=0.000\n",
      "X2 < 3.163 Gini=0.000\n",
      "X2 < 3.339 Gini=0.000\n",
      "X2 < 3.235 Gini=0.000\n",
      "[X1 < 6.642]\n",
      " [X1 < 2.771]\n",
      "  [0]\n",
      "  [X1 < 2.771]\n",
      "   [0]\n",
      "   [0]\n",
      " [X1 < 7.498]\n",
      "  [X1 < 7.445]\n",
      "   [1]\n",
      "   [1]\n",
      "  [X1 < 7.498]\n",
      "   [1]\n",
      "   [1]\n"
     ]
    }
   ],
   "source": [
    "tree = build_tree(dataset, 3, 1)\n",
    "print_tree(tree)"
   ]
  },
  {
   "cell_type": "markdown",
   "id": "baaf7017-6393-4e0b-9239-3a90e696c6a5",
   "metadata": {},
   "source": [
    "__Make a Prediction__"
   ]
  },
  {
   "cell_type": "code",
   "execution_count": 25,
   "id": "5d0d2005-37dc-44bb-aac8-4f5545e6a801",
   "metadata": {},
   "outputs": [],
   "source": [
    "def predict(node, row):\n",
    "    if row[node['index']] <node['value']:\n",
    "        if isinstance(node['left'], dict):\n",
    "            return predict(node['left'], row)\n",
    "        else: \n",
    "            return node['left']\n",
    "    else: \n",
    "        if isinstance(node['right'], dict):\n",
    "            return predict(node['right'], row)\n",
    "        else: \n",
    "            return node['right']"
   ]
  },
  {
   "cell_type": "markdown",
   "id": "efe94748-05f1-4bb1-8329-79ce93aaa738",
   "metadata": {},
   "source": [
    "__Banknote Case Study__"
   ]
  },
  {
   "cell_type": "code",
   "execution_count": 26,
   "id": "7a10d408-01bb-411e-a7b7-9448a0e2ffb9",
   "metadata": {},
   "outputs": [],
   "source": [
    "from random import randrange"
   ]
  },
  {
   "cell_type": "code",
   "execution_count": 27,
   "id": "5811e590-0bb5-4aa9-bacd-76e6dfafab45",
   "metadata": {},
   "outputs": [],
   "source": [
    "# Split a dataset into k folds\n",
    "def cross_validation_split(dataset, n_folds):\n",
    "    dataset_split = list()\n",
    "    dataset_copy = list(dataset)\n",
    "    fold_size = int(len(dataset)/n_folds)\n",
    "    for i in range(n_folds):\n",
    "        fold = list()\n",
    "        while len(fold) < fold_size:\n",
    "            index = randrange(len(dataset_copy))\n",
    "            fold.append(dataset_copy.pop(index))\n",
    "        dataset_split.append(fold)\n",
    "    return dataset_split"
   ]
  },
  {
   "cell_type": "code",
   "execution_count": 28,
   "id": "7f25f97b-9f73-4396-be21-eb3c6aedc16f",
   "metadata": {},
   "outputs": [],
   "source": [
    "# Calculate accuracy percentage \n",
    "def accuracy_metric(actual, predicted):\n",
    "    correct = 0 \n",
    "    for i in range(len(actual)):\n",
    "        if actual[i] == predicted[i]:\n",
    "            correct +=1\n",
    "    return correct / float(len(actual)) * 100.0"
   ]
  },
  {
   "cell_type": "code",
   "execution_count": 36,
   "id": "4672c26d-0f72-4a77-ac60-1defbeb61b3a",
   "metadata": {},
   "outputs": [],
   "source": [
    "# Evaluate an algorithm using a cross validation split\n",
    "def evaluate_algorithm(dataset, algorithm, n_folds, *args):\n",
    "    folds = cross_validation_split(dataset, n_folds)\n",
    "    scores = list()\n",
    "    for fold in folds: \n",
    "        train_set = list(folds)\n",
    "        train_set.remove(fold)\n",
    "        train_set = sum(train_set, [])\n",
    "        test_set = list()\n",
    "        for row in fold:\n",
    "            row_copy = list(row)\n",
    "            test_set.append(row_copy)\n",
    "            row_copy[-1] = None \n",
    "            predicted = algorithm(train_set, test_set, *args)\n",
    "            actual = [row[-1] for row in fold]\n",
    "            accuracy = accuracy_metric(actual, predicted)\n",
    "            scores.append(accuracy)\n",
    "        return scores"
   ]
  },
  {
   "cell_type": "code",
   "execution_count": 37,
   "id": "01348a70-2a65-4e83-bf76-a158b634135b",
   "metadata": {},
   "outputs": [],
   "source": [
    "# Classification and Regression Tree Algorithm\n",
    "def decision_tree(train, test, max_depth, min_size):\n",
    "    tree = build_tree(train, max_depth, min_size)\n",
    "    predictions = list()\n",
    "    for row in test:\n",
    "        prediction = predict(tree, row)\n",
    "        predictions.append(prediction)\n",
    "    return(predictions)"
   ]
  },
  {
   "cell_type": "code",
   "execution_count": 38,
   "id": "8669c3e9-28fb-4a50-8a51-173dc3d78722",
   "metadata": {},
   "outputs": [
    {
     "name": "stdout",
     "output_type": "stream",
     "text": [
      "X1 < 9.002 Gini=0.333\n",
      "X1 < 10.125 Gini=0.429\n",
      "X1 < 1.729 Gini=0.500\n",
      "X1 < 7.498 Gini=0.200\n",
      "X1 < 3.678 Gini=0.333\n",
      "X1 < 3.961 Gini=0.200\n",
      "X1 < 2.771 Gini=0.429\n",
      "X1 < 6.642 Gini=0.000\n",
      "X2 < 3.339 Gini=0.429\n",
      "X2 < 3.235 Gini=0.200\n",
      "X2 < 1.170 Gini=0.500\n",
      "X2 < 3.163 Gini=0.000\n",
      "X2 < 2.813 Gini=0.200\n",
      "X2 < 2.620 Gini=0.333\n",
      "X2 < 1.785 Gini=0.429\n",
      "X2 < 3.320 Gini=0.333\n"
     ]
    },
    {
     "ename": "IndexError",
     "evalue": "list index out of range",
     "output_type": "error",
     "traceback": [
      "\u001b[0;31m---------------------------------------------------------------------------\u001b[0m",
      "\u001b[0;31mIndexError\u001b[0m                                Traceback (most recent call last)",
      "\u001b[0;32m<ipython-input-38-07a74d88c9ee>\u001b[0m in \u001b[0;36m<module>\u001b[0;34m\u001b[0m\n\u001b[1;32m      4\u001b[0m \u001b[0mmax_depth\u001b[0m \u001b[0;34m=\u001b[0m \u001b[0;36m5\u001b[0m\u001b[0;34m\u001b[0m\u001b[0;34m\u001b[0m\u001b[0m\n\u001b[1;32m      5\u001b[0m \u001b[0mmin_size\u001b[0m \u001b[0;34m=\u001b[0m \u001b[0;36m10\u001b[0m\u001b[0;34m\u001b[0m\u001b[0;34m\u001b[0m\u001b[0m\n\u001b[0;32m----> 6\u001b[0;31m \u001b[0mscores\u001b[0m \u001b[0;34m=\u001b[0m \u001b[0mevaluate_algorithm\u001b[0m\u001b[0;34m(\u001b[0m\u001b[0mdataset\u001b[0m\u001b[0;34m,\u001b[0m \u001b[0mdecision_tree\u001b[0m\u001b[0;34m,\u001b[0m \u001b[0mn_folds\u001b[0m\u001b[0;34m,\u001b[0m \u001b[0mmax_depth\u001b[0m\u001b[0;34m,\u001b[0m \u001b[0mmin_size\u001b[0m\u001b[0;34m)\u001b[0m\u001b[0;34m\u001b[0m\u001b[0;34m\u001b[0m\u001b[0m\n\u001b[0m\u001b[1;32m      7\u001b[0m \u001b[0mprint\u001b[0m\u001b[0;34m(\u001b[0m\u001b[0;34m'Scores: %s'\u001b[0m \u001b[0;34m%\u001b[0m \u001b[0mscores\u001b[0m\u001b[0;34m)\u001b[0m\u001b[0;34m\u001b[0m\u001b[0;34m\u001b[0m\u001b[0m\n\u001b[1;32m      8\u001b[0m \u001b[0mprint\u001b[0m\u001b[0;34m(\u001b[0m\u001b[0;34m'Mean Accuracy: %.3f%%'\u001b[0m \u001b[0;34m%\u001b[0m \u001b[0;34m(\u001b[0m\u001b[0msum\u001b[0m\u001b[0;34m(\u001b[0m\u001b[0mscores\u001b[0m\u001b[0;34m)\u001b[0m\u001b[0;34m/\u001b[0m\u001b[0mfloat\u001b[0m\u001b[0;34m(\u001b[0m\u001b[0mlen\u001b[0m\u001b[0;34m(\u001b[0m\u001b[0mscores\u001b[0m\u001b[0;34m)\u001b[0m\u001b[0;34m)\u001b[0m\u001b[0;34m)\u001b[0m\u001b[0;34m)\u001b[0m\u001b[0;34m\u001b[0m\u001b[0;34m\u001b[0m\u001b[0m\n",
      "\u001b[0;32m<ipython-input-36-c85aa934c99f>\u001b[0m in \u001b[0;36mevaluate_algorithm\u001b[0;34m(dataset, algorithm, n_folds, *args)\u001b[0m\n\u001b[1;32m     14\u001b[0m             \u001b[0mpredicted\u001b[0m \u001b[0;34m=\u001b[0m \u001b[0malgorithm\u001b[0m\u001b[0;34m(\u001b[0m\u001b[0mtrain_set\u001b[0m\u001b[0;34m,\u001b[0m \u001b[0mtest_set\u001b[0m\u001b[0;34m,\u001b[0m \u001b[0;34m*\u001b[0m\u001b[0margs\u001b[0m\u001b[0;34m)\u001b[0m\u001b[0;34m\u001b[0m\u001b[0;34m\u001b[0m\u001b[0m\n\u001b[1;32m     15\u001b[0m             \u001b[0mactual\u001b[0m \u001b[0;34m=\u001b[0m \u001b[0;34m[\u001b[0m\u001b[0mrow\u001b[0m\u001b[0;34m[\u001b[0m\u001b[0;34m-\u001b[0m\u001b[0;36m1\u001b[0m\u001b[0;34m]\u001b[0m \u001b[0;32mfor\u001b[0m \u001b[0mrow\u001b[0m \u001b[0;32min\u001b[0m \u001b[0mfold\u001b[0m\u001b[0;34m]\u001b[0m\u001b[0;34m\u001b[0m\u001b[0;34m\u001b[0m\u001b[0m\n\u001b[0;32m---> 16\u001b[0;31m             \u001b[0maccuracy\u001b[0m \u001b[0;34m=\u001b[0m \u001b[0maccuracy_metric\u001b[0m\u001b[0;34m(\u001b[0m\u001b[0mactual\u001b[0m\u001b[0;34m,\u001b[0m \u001b[0mpredicted\u001b[0m\u001b[0;34m)\u001b[0m\u001b[0;34m\u001b[0m\u001b[0;34m\u001b[0m\u001b[0m\n\u001b[0m\u001b[1;32m     17\u001b[0m             \u001b[0mscores\u001b[0m\u001b[0;34m.\u001b[0m\u001b[0mappend\u001b[0m\u001b[0;34m(\u001b[0m\u001b[0maccuracy\u001b[0m\u001b[0;34m)\u001b[0m\u001b[0;34m\u001b[0m\u001b[0;34m\u001b[0m\u001b[0m\n\u001b[1;32m     18\u001b[0m         \u001b[0;32mreturn\u001b[0m \u001b[0mscores\u001b[0m\u001b[0;34m\u001b[0m\u001b[0;34m\u001b[0m\u001b[0m\n",
      "\u001b[0;32m<ipython-input-28-94310a267768>\u001b[0m in \u001b[0;36maccuracy_metric\u001b[0;34m(actual, predicted)\u001b[0m\n\u001b[1;32m      3\u001b[0m     \u001b[0mcorrect\u001b[0m \u001b[0;34m=\u001b[0m \u001b[0;36m0\u001b[0m\u001b[0;34m\u001b[0m\u001b[0;34m\u001b[0m\u001b[0m\n\u001b[1;32m      4\u001b[0m     \u001b[0;32mfor\u001b[0m \u001b[0mi\u001b[0m \u001b[0;32min\u001b[0m \u001b[0mrange\u001b[0m\u001b[0;34m(\u001b[0m\u001b[0mlen\u001b[0m\u001b[0;34m(\u001b[0m\u001b[0mactual\u001b[0m\u001b[0;34m)\u001b[0m\u001b[0;34m)\u001b[0m\u001b[0;34m:\u001b[0m\u001b[0;34m\u001b[0m\u001b[0;34m\u001b[0m\u001b[0m\n\u001b[0;32m----> 5\u001b[0;31m         \u001b[0;32mif\u001b[0m \u001b[0mactual\u001b[0m\u001b[0;34m[\u001b[0m\u001b[0mi\u001b[0m\u001b[0;34m]\u001b[0m \u001b[0;34m==\u001b[0m \u001b[0mpredicted\u001b[0m\u001b[0;34m[\u001b[0m\u001b[0mi\u001b[0m\u001b[0;34m]\u001b[0m\u001b[0;34m:\u001b[0m\u001b[0;34m\u001b[0m\u001b[0;34m\u001b[0m\u001b[0m\n\u001b[0m\u001b[1;32m      6\u001b[0m             \u001b[0mcorrect\u001b[0m \u001b[0;34m+=\u001b[0m\u001b[0;36m1\u001b[0m\u001b[0;34m\u001b[0m\u001b[0;34m\u001b[0m\u001b[0m\n\u001b[1;32m      7\u001b[0m     \u001b[0;32mreturn\u001b[0m \u001b[0mcorrect\u001b[0m \u001b[0;34m/\u001b[0m \u001b[0mfloat\u001b[0m\u001b[0;34m(\u001b[0m\u001b[0mlen\u001b[0m\u001b[0;34m(\u001b[0m\u001b[0mactual\u001b[0m\u001b[0;34m)\u001b[0m\u001b[0;34m)\u001b[0m \u001b[0;34m*\u001b[0m \u001b[0;36m100.0\u001b[0m\u001b[0;34m\u001b[0m\u001b[0;34m\u001b[0m\u001b[0m\n",
      "\u001b[0;31mIndexError\u001b[0m: list index out of range"
     ]
    }
   ],
   "source": [
    "# Test CART on Bank Note dataset\n",
    "# evaluate algorithm\n",
    "n_folds = 5\n",
    "max_depth = 5\n",
    "min_size = 10\n",
    "scores = evaluate_algorithm(dataset, decision_tree, n_folds, max_depth, min_size)\n",
    "print('Scores: %s' % scores)\n",
    "print('Mean Accuracy: %.3f%%' % (sum(scores)/float(len(scores))))"
   ]
  },
  {
   "cell_type": "code",
   "execution_count": 40,
   "id": "b61cc034-83da-48bb-8027-9123b30a17cf",
   "metadata": {},
   "outputs": [
    {
     "name": "stdout",
     "output_type": "stream",
     "text": [
      "Scores: [96.35036496350365, 97.08029197080292, 97.44525547445255, 98.17518248175182, 97.44525547445255]\n",
      "Mean Accuracy: 97.299%\n"
     ]
    }
   ],
   "source": [
    "# CART on the Bank Note dataset\n",
    "from random import seed\n",
    "from random import randrange\n",
    "from csv import reader\n",
    " \n",
    "# Load a CSV file\n",
    "def load_csv(filename):\n",
    "\tfile = open(filename, \"rt\")\n",
    "\tlines = reader(file)\n",
    "\tdataset = list(lines)\n",
    "\treturn dataset\n",
    " \n",
    "# Convert string column to float\n",
    "def str_column_to_float(dataset, column):\n",
    "\tfor row in dataset:\n",
    "\t\trow[column] = float(row[column].strip())\n",
    " \n",
    "# Split a dataset into k folds\n",
    "def cross_validation_split(dataset, n_folds):\n",
    "\tdataset_split = list()\n",
    "\tdataset_copy = list(dataset)\n",
    "\tfold_size = int(len(dataset) / n_folds)\n",
    "\tfor i in range(n_folds):\n",
    "\t\tfold = list()\n",
    "\t\twhile len(fold) < fold_size:\n",
    "\t\t\tindex = randrange(len(dataset_copy))\n",
    "\t\t\tfold.append(dataset_copy.pop(index))\n",
    "\t\tdataset_split.append(fold)\n",
    "\treturn dataset_split\n",
    " \n",
    "# Calculate accuracy percentage\n",
    "def accuracy_metric(actual, predicted):\n",
    "\tcorrect = 0\n",
    "\tfor i in range(len(actual)):\n",
    "\t\tif actual[i] == predicted[i]:\n",
    "\t\t\tcorrect += 1\n",
    "\treturn correct / float(len(actual)) * 100.0\n",
    " \n",
    "# Evaluate an algorithm using a cross validation split\n",
    "def evaluate_algorithm(dataset, algorithm, n_folds, *args):\n",
    "\tfolds = cross_validation_split(dataset, n_folds)\n",
    "\tscores = list()\n",
    "\tfor fold in folds:\n",
    "\t\ttrain_set = list(folds)\n",
    "\t\ttrain_set.remove(fold)\n",
    "\t\ttrain_set = sum(train_set, [])\n",
    "\t\ttest_set = list()\n",
    "\t\tfor row in fold:\n",
    "\t\t\trow_copy = list(row)\n",
    "\t\t\ttest_set.append(row_copy)\n",
    "\t\t\trow_copy[-1] = None\n",
    "\t\tpredicted = algorithm(train_set, test_set, *args)\n",
    "\t\tactual = [row[-1] for row in fold]\n",
    "\t\taccuracy = accuracy_metric(actual, predicted)\n",
    "\t\tscores.append(accuracy)\n",
    "\treturn scores\n",
    " \n",
    "# Split a dataset based on an attribute and an attribute value\n",
    "def test_split(index, value, dataset):\n",
    "\tleft, right = list(), list()\n",
    "\tfor row in dataset:\n",
    "\t\tif row[index] < value:\n",
    "\t\t\tleft.append(row)\n",
    "\t\telse:\n",
    "\t\t\tright.append(row)\n",
    "\treturn left, right\n",
    " \n",
    "# Calculate the Gini index for a split dataset\n",
    "def gini_index(groups, classes):\n",
    "\t# count all samples at split point\n",
    "\tn_instances = float(sum([len(group) for group in groups]))\n",
    "\t# sum weighted Gini index for each group\n",
    "\tgini = 0.0\n",
    "\tfor group in groups:\n",
    "\t\tsize = float(len(group))\n",
    "\t\t# avoid divide by zero\n",
    "\t\tif size == 0:\n",
    "\t\t\tcontinue\n",
    "\t\tscore = 0.0\n",
    "\t\t# score the group based on the score for each class\n",
    "\t\tfor class_val in classes:\n",
    "\t\t\tp = [row[-1] for row in group].count(class_val) / size\n",
    "\t\t\tscore += p * p\n",
    "\t\t# weight the group score by its relative size\n",
    "\t\tgini += (1.0 - score) * (size / n_instances)\n",
    "\treturn gini\n",
    " \n",
    "# Select the best split point for a dataset\n",
    "def get_split(dataset):\n",
    "\tclass_values = list(set(row[-1] for row in dataset))\n",
    "\tb_index, b_value, b_score, b_groups = 999, 999, 999, None\n",
    "\tfor index in range(len(dataset[0])-1):\n",
    "\t\tfor row in dataset:\n",
    "\t\t\tgroups = test_split(index, row[index], dataset)\n",
    "\t\t\tgini = gini_index(groups, class_values)\n",
    "\t\t\tif gini < b_score:\n",
    "\t\t\t\tb_index, b_value, b_score, b_groups = index, row[index], gini, groups\n",
    "\treturn {'index':b_index, 'value':b_value, 'groups':b_groups}\n",
    " \n",
    "# Create a terminal node value\n",
    "def to_terminal(group):\n",
    "\toutcomes = [row[-1] for row in group]\n",
    "\treturn max(set(outcomes), key=outcomes.count)\n",
    " \n",
    "# Create child splits for a node or make terminal\n",
    "def split(node, max_depth, min_size, depth):\n",
    "\tleft, right = node['groups']\n",
    "\tdel(node['groups'])\n",
    "\t# check for a no split\n",
    "\tif not left or not right:\n",
    "\t\tnode['left'] = node['right'] = to_terminal(left + right)\n",
    "\t\treturn\n",
    "\t# check for max depth\n",
    "\tif depth >= max_depth:\n",
    "\t\tnode['left'], node['right'] = to_terminal(left), to_terminal(right)\n",
    "\t\treturn\n",
    "\t# process left child\n",
    "\tif len(left) <= min_size:\n",
    "\t\tnode['left'] = to_terminal(left)\n",
    "\telse:\n",
    "\t\tnode['left'] = get_split(left)\n",
    "\t\tsplit(node['left'], max_depth, min_size, depth+1)\n",
    "\t# process right child\n",
    "\tif len(right) <= min_size:\n",
    "\t\tnode['right'] = to_terminal(right)\n",
    "\telse:\n",
    "\t\tnode['right'] = get_split(right)\n",
    "\t\tsplit(node['right'], max_depth, min_size, depth+1)\n",
    " \n",
    "# Build a decision tree\n",
    "def build_tree(train, max_depth, min_size):\n",
    "\troot = get_split(train)\n",
    "\tsplit(root, max_depth, min_size, 1)\n",
    "\treturn root\n",
    " \n",
    "# Make a prediction with a decision tree\n",
    "def predict(node, row):\n",
    "\tif row[node['index']] < node['value']:\n",
    "\t\tif isinstance(node['left'], dict):\n",
    "\t\t\treturn predict(node['left'], row)\n",
    "\t\telse:\n",
    "\t\t\treturn node['left']\n",
    "\telse:\n",
    "\t\tif isinstance(node['right'], dict):\n",
    "\t\t\treturn predict(node['right'], row)\n",
    "\t\telse:\n",
    "\t\t\treturn node['right']\n",
    " \n",
    "# Classification and Regression Tree Algorithm\n",
    "def decision_tree(train, test, max_depth, min_size):\n",
    "\ttree = build_tree(train, max_depth, min_size)\n",
    "\tpredictions = list()\n",
    "\tfor row in test:\n",
    "\t\tprediction = predict(tree, row)\n",
    "\t\tpredictions.append(prediction)\n",
    "\treturn(predictions)\n",
    " \n",
    "# Test CART on Bank Note dataset\n",
    "seed(1)\n",
    "# load and prepare data\n",
    "filename = 'data_banknote_authentication.txt'\n",
    "dataset = load_csv(filename)\n",
    "# convert string attributes to integers\n",
    "for i in range(len(dataset[0])):\n",
    "\tstr_column_to_float(dataset, i)\n",
    "# evaluate algorithm\n",
    "n_folds = 5\n",
    "max_depth = 5\n",
    "min_size = 10\n",
    "scores = evaluate_algorithm(dataset, decision_tree, n_folds, max_depth, min_size)\n",
    "print('Scores: %s' % scores)\n",
    "print('Mean Accuracy: %.3f%%' % (sum(scores)/float(len(scores))))"
   ]
  }
 ],
 "metadata": {
  "kernelspec": {
   "display_name": "Python 3",
   "language": "python",
   "name": "python3"
  },
  "language_info": {
   "codemirror_mode": {
    "name": "ipython",
    "version": 3
   },
   "file_extension": ".py",
   "mimetype": "text/x-python",
   "name": "python",
   "nbconvert_exporter": "python",
   "pygments_lexer": "ipython3",
   "version": "3.8.8"
  }
 },
 "nbformat": 4,
 "nbformat_minor": 5
}
